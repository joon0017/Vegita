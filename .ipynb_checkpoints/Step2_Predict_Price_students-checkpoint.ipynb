{
 "cells": [
  {
   "cell_type": "markdown",
   "metadata": {},
   "source": [
    "---------\n",
    "# 배추가격 예측 AI Project for 모인활\n",
    "\n",
    "Notes by kjune18@naver.com, Handong Global Univ."
   ]
  },
  {
   "cell_type": "markdown",
   "metadata": {},
   "source": [
    "## 5. 저장된 학습 모델 불러오기 "
   ]
  },
  {
   "cell_type": "markdown",
   "metadata": {},
   "source": [
    "학습모델을 저장하는 이유는 학습 모델을 저장하지 않고 사용자로부터 배추 가격 예측 요청이 발생할 때마다 매번 학습을 해서 결과를 돌려준다면 시간과 비용이 많이 들 것이기 때문이다.\n",
    "\n",
    "따라서 서버에서 내부적으로 데이터를 이용해 학습된 모델을 사용해서 배추가격을 예측하는 것이 효율적이다."
   ]
  },
  {
   "cell_type": "code",
   "execution_count": null,
   "metadata": {},
   "outputs": [],
   "source": [
    "# tensorflow Ver2\n",
    "import tensorflow as tf\n",
    "import numpy as np\n",
    "model = tf.keras.models.load_model('./my_saved/saved.ckpt')"
   ]
  },
  {
   "cell_type": "code",
   "execution_count": 1,
   "metadata": {},
   "outputs": [
    {
     "name": "stdout",
     "output_type": "stream",
     "text": [
      "평균 온도: 1\n",
      "최소 온도: 1\n",
      "최소 온도: 1\n",
      "감수량: 1\n"
     ]
    }
   ],
   "source": [
    "# 사용자로부터 4가지 입력 받을 수 있도록 작성\n",
    "avg_temp = float(input(\"평균 온도: \"))\n",
    "min_temp = float(input(\"최소 온도: \"))\n",
    "max_temp = float(input(\"최소 온도: \"))\n",
    "rain_fall = float(input(\"감수량: \"))"
   ]
  },
  {
   "cell_type": "code",
   "execution_count": 2,
   "metadata": {},
   "outputs": [
    {
     "ename": "NameError",
     "evalue": "name 'np' is not defined",
     "output_type": "error",
     "traceback": [
      "\u001b[0;31m---------------------------------------------------------------------------\u001b[0m",
      "\u001b[0;31mNameError\u001b[0m                                 Traceback (most recent call last)",
      "\u001b[0;32m/var/folders/_t/kv88rsh903z30fxy9z_4k08h0000gn/T/ipykernel_68803/4139954212.py\u001b[0m in \u001b[0;36m<module>\u001b[0;34m\u001b[0m\n\u001b[1;32m      1\u001b[0m \u001b[0mdata\u001b[0m \u001b[0;34m=\u001b[0m \u001b[0;34m(\u001b[0m\u001b[0;34m(\u001b[0m\u001b[0mavg_temp\u001b[0m\u001b[0;34m,\u001b[0m \u001b[0mmin_temp\u001b[0m\u001b[0;34m,\u001b[0m \u001b[0mmax_temp\u001b[0m\u001b[0;34m,\u001b[0m \u001b[0mrain_fall\u001b[0m\u001b[0;34m)\u001b[0m\u001b[0;34m,\u001b[0m \u001b[0;34m)\u001b[0m  \u001b[0;31m# 기존의 학습된 데이터와 같은 2차원 배열 만들기\u001b[0m\u001b[0;34m\u001b[0m\u001b[0;34m\u001b[0m\u001b[0m\n\u001b[0;32m----> 2\u001b[0;31m \u001b[0marr\u001b[0m\u001b[0;34m=\u001b[0m \u001b[0mnp\u001b[0m\u001b[0;34m.\u001b[0m\u001b[0marray\u001b[0m\u001b[0;34m(\u001b[0m\u001b[0mdata\u001b[0m\u001b[0;34m,\u001b[0m \u001b[0mdtype\u001b[0m\u001b[0;34m=\u001b[0m\u001b[0mnp\u001b[0m\u001b[0;34m.\u001b[0m\u001b[0mfloat32\u001b[0m\u001b[0;34m)\u001b[0m\u001b[0;34m\u001b[0m\u001b[0;34m\u001b[0m\u001b[0m\n\u001b[0m",
      "\u001b[0;31mNameError\u001b[0m: name 'np' is not defined"
     ]
    }
   ],
   "source": [
    "data = ((avg_temp, min_temp, max_temp, rain_fall), )  # 기존의 학습된 데이터와 같은 2차원 배열 만들기\n",
    "arr= np.array(data, dtype=np.float32)"
   ]
  },
  {
   "cell_type": "markdown",
   "metadata": {},
   "source": [
    "## 6. 학습 모델을 이용하여 값 출력하기"
   ]
  },
  {
   "cell_type": "code",
   "execution_count": 89,
   "metadata": {},
   "outputs": [
    {
     "name": "stdout",
     "output_type": "stream",
     "text": [
      "[[ 3.5 -2.8 10.3  0.5]]\n",
      "WARNING:tensorflow:5 out of the last 191 calls to <function Model.make_predict_function.<locals>.predict_function at 0x0000021A51C56670> triggered tf.function retracing. Tracing is expensive and the excessive number of tracings could be due to (1) creating @tf.function repeatedly in a loop, (2) passing tensors with different shapes, (3) passing Python objects instead of tensors. For (1), please define your @tf.function outside of the loop. For (2), @tf.function has experimental_relax_shapes=True option that relaxes argument shapes that can avoid unnecessary retracing. For (3), please refer to https://www.tensorflow.org/tutorials/customization/performance#python_or_tensor_args and https://www.tensorflow.org/api_docs/python/tf/function for  more details.\n",
      "예측한 배추가격은  [2982.9783] 원 입니다.\n"
     ]
    }
   ],
   "source": [
    "# 예측 수행\n",
    "x_data = arr[0:4]  # avg_temp, min_temp, max_temp, rain_fall\n",
    "print(x_data)\n",
    "price =model.predict(x_data)\n",
    "   \n",
    "print(\"예측한 배추가격은 \", price[0], \"원 입니다.\")"
   ]
  },
  {
   "cell_type": "markdown",
   "metadata": {},
   "source": [
    "------------------------------------------------------------------"
   ]
  },
  {
   "cell_type": "markdown",
   "metadata": {},
   "source": [
    "## 참고자료"
   ]
  },
  {
   "cell_type": "markdown",
   "metadata": {},
   "source": [
    "1. 안경잡이개발자\n",
    "https://ndb796.tistory.com"
   ]
  }
 ],
 "metadata": {
  "kernelspec": {
   "display_name": "Python 3 (ipykernel)",
   "language": "python",
   "name": "python3"
  },
  "language_info": {
   "codemirror_mode": {
    "name": "ipython",
    "version": 3
   },
   "file_extension": ".py",
   "mimetype": "text/x-python",
   "name": "python",
   "nbconvert_exporter": "python",
   "pygments_lexer": "ipython3",
   "version": "3.9.7"
  }
 },
 "nbformat": 4,
 "nbformat_minor": 4
}
